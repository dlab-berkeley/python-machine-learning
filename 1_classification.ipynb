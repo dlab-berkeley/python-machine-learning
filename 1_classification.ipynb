{
  "nbformat": 4,
  "nbformat_minor": 0,
  "metadata": {
    "anaconda-cloud": {},
    "hide_input": false,
    "kernelspec": {
      "display_name": "Python 3",
      "language": "python",
      "name": "python3"
    },
    "language_info": {
      "codemirror_mode": {
        "name": "ipython",
        "version": 3
      },
      "file_extension": ".py",
      "mimetype": "text/x-python",
      "name": "python",
      "nbconvert_exporter": "python",
      "pygments_lexer": "ipython3",
      "version": "3.7.2"
    },
    "toc": {
      "base_numbering": 1,
      "nav_menu": {},
      "number_sections": false,
      "sideBar": true,
      "skip_h1_title": false,
      "title_cell": "Table of Contents",
      "title_sidebar": "Contents",
      "toc_cell": false,
      "toc_position": {},
      "toc_section_display": "block",
      "toc_window_display": true
    },
    "varInspector": {
      "cols": {
        "lenName": 16,
        "lenType": 16,
        "lenVar": 40
      },
      "kernels_config": {
        "python": {
          "delete_cmd_postfix": "",
          "delete_cmd_prefix": "del ",
          "library": "var_list.py",
          "varRefreshCmd": "print(var_dic_list())"
        },
        "r": {
          "delete_cmd_postfix": ") ",
          "delete_cmd_prefix": "rm(",
          "library": "var_list.r",
          "varRefreshCmd": "cat(var_dic_list()) "
        }
      },
      "types_to_exclude": [
        "module",
        "function",
        "builtin_function_or_method",
        "instance",
        "_Feature"
      ],
      "window_display": false
    },
    "colab": {
      "name": "1_classification.ipynb",
      "provenance": [],
      "collapsed_sections": []
    }
  },
  "cells": [
    {
      "cell_type": "markdown",
      "metadata": {
        "id": "kYTemOGFXkjH"
      },
      "source": [
        "# Part 1: Classification"
      ]
    },
    {
      "cell_type": "markdown",
      "metadata": {
        "id": "pYM6qD3IXkjM"
      },
      "source": [
        "A common task in computational research is to classify an object based on a set of features. In superivsed machine learning, we can give an algorithm a dataset of training examples that say \"here are specific features, and this is the class it belongs to\". With enough training examples, a model can be built that recognizes important features in determining an objects class. This model can then be used to predict the class of an object given its known features."
      ]
    },
    {
      "cell_type": "markdown",
      "metadata": {
        "id": "s2b63wy9XkjN"
      },
      "source": [
        "## 1) Cancer Dataset"
      ]
    },
    {
      "cell_type": "markdown",
      "metadata": {
        "id": "XBGTzFxnXkjO"
      },
      "source": [
        "We'll start off by loading scikit-learn's [Breast Cancer](https://scikit-learn.org/stable/modules/generated/sklearn.datasets.load_breast_cancer.html#sklearn.datasets.load_breast_cancer) dataset. Using this dataset we can classify a cancer as one of two types: malignant or benign."
      ]
    },
    {
      "cell_type": "code",
      "metadata": {
        "id": "9XIYDLcPXkjO"
      },
      "source": [
        "from sklearn.datasets import load_breast_cancer\n",
        "cancer = load_breast_cancer()"
      ],
      "execution_count": null,
      "outputs": []
    },
    {
      "cell_type": "code",
      "metadata": {
        "colab": {
          "base_uri": "https://localhost:8080/"
        },
        "id": "71ExgBbjXkjP",
        "outputId": "57961cfc-3afa-435f-a102-2886ff5251b8"
      },
      "source": [
        "type(cancer)"
      ],
      "execution_count": null,
      "outputs": [
        {
          "output_type": "execute_result",
          "data": {
            "text/plain": [
              "sklearn.utils.Bunch"
            ]
          },
          "metadata": {
            "tags": []
          },
          "execution_count": 2
        }
      ]
    },
    {
      "cell_type": "markdown",
      "metadata": {
        "id": "1BEcPEmVXkjP"
      },
      "source": [
        "Let's look inside of it to see what datatypes scikit-learn wants, and how their sample dataset is formatted, so that we can prepare our own datasets later:"
      ]
    },
    {
      "cell_type": "code",
      "metadata": {
        "colab": {
          "base_uri": "https://localhost:8080/"
        },
        "id": "GfRP5om2XkjQ",
        "outputId": "57b282c3-48f3-4228-a32d-4c00b842ae8f"
      },
      "source": [
        "cancer.keys()"
      ],
      "execution_count": null,
      "outputs": [
        {
          "output_type": "execute_result",
          "data": {
            "text/plain": [
              "dict_keys(['data', 'target', 'target_names', 'DESCR', 'feature_names', 'filename'])"
            ]
          },
          "metadata": {
            "tags": []
          },
          "execution_count": 3
        }
      ]
    },
    {
      "cell_type": "markdown",
      "metadata": {
        "id": "jOwB9PSsXkjQ"
      },
      "source": [
        "So the data is in dictionary format, and we can access the data and labels by indexing certain keys:"
      ]
    },
    {
      "cell_type": "code",
      "metadata": {
        "colab": {
          "base_uri": "https://localhost:8080/"
        },
        "id": "6SHhbn-ZXkjR",
        "outputId": "9da21250-b075-438e-943c-b28599a1481c"
      },
      "source": [
        "print(cancer.DESCR)"
      ],
      "execution_count": null,
      "outputs": [
        {
          "output_type": "stream",
          "text": [
            ".. _breast_cancer_dataset:\n",
            "\n",
            "Breast cancer wisconsin (diagnostic) dataset\n",
            "--------------------------------------------\n",
            "\n",
            "**Data Set Characteristics:**\n",
            "\n",
            "    :Number of Instances: 569\n",
            "\n",
            "    :Number of Attributes: 30 numeric, predictive attributes and the class\n",
            "\n",
            "    :Attribute Information:\n",
            "        - radius (mean of distances from center to points on the perimeter)\n",
            "        - texture (standard deviation of gray-scale values)\n",
            "        - perimeter\n",
            "        - area\n",
            "        - smoothness (local variation in radius lengths)\n",
            "        - compactness (perimeter^2 / area - 1.0)\n",
            "        - concavity (severity of concave portions of the contour)\n",
            "        - concave points (number of concave portions of the contour)\n",
            "        - symmetry \n",
            "        - fractal dimension (\"coastline approximation\" - 1)\n",
            "\n",
            "        The mean, standard error, and \"worst\" or largest (mean of the three\n",
            "        largest values) of these features were computed for each image,\n",
            "        resulting in 30 features.  For instance, field 3 is Mean Radius, field\n",
            "        13 is Radius SE, field 23 is Worst Radius.\n",
            "\n",
            "        - class:\n",
            "                - WDBC-Malignant\n",
            "                - WDBC-Benign\n",
            "\n",
            "    :Summary Statistics:\n",
            "\n",
            "    ===================================== ====== ======\n",
            "                                           Min    Max\n",
            "    ===================================== ====== ======\n",
            "    radius (mean):                        6.981  28.11\n",
            "    texture (mean):                       9.71   39.28\n",
            "    perimeter (mean):                     43.79  188.5\n",
            "    area (mean):                          143.5  2501.0\n",
            "    smoothness (mean):                    0.053  0.163\n",
            "    compactness (mean):                   0.019  0.345\n",
            "    concavity (mean):                     0.0    0.427\n",
            "    concave points (mean):                0.0    0.201\n",
            "    symmetry (mean):                      0.106  0.304\n",
            "    fractal dimension (mean):             0.05   0.097\n",
            "    radius (standard error):              0.112  2.873\n",
            "    texture (standard error):             0.36   4.885\n",
            "    perimeter (standard error):           0.757  21.98\n",
            "    area (standard error):                6.802  542.2\n",
            "    smoothness (standard error):          0.002  0.031\n",
            "    compactness (standard error):         0.002  0.135\n",
            "    concavity (standard error):           0.0    0.396\n",
            "    concave points (standard error):      0.0    0.053\n",
            "    symmetry (standard error):            0.008  0.079\n",
            "    fractal dimension (standard error):   0.001  0.03\n",
            "    radius (worst):                       7.93   36.04\n",
            "    texture (worst):                      12.02  49.54\n",
            "    perimeter (worst):                    50.41  251.2\n",
            "    area (worst):                         185.2  4254.0\n",
            "    smoothness (worst):                   0.071  0.223\n",
            "    compactness (worst):                  0.027  1.058\n",
            "    concavity (worst):                    0.0    1.252\n",
            "    concave points (worst):               0.0    0.291\n",
            "    symmetry (worst):                     0.156  0.664\n",
            "    fractal dimension (worst):            0.055  0.208\n",
            "    ===================================== ====== ======\n",
            "\n",
            "    :Missing Attribute Values: None\n",
            "\n",
            "    :Class Distribution: 212 - Malignant, 357 - Benign\n",
            "\n",
            "    :Creator:  Dr. William H. Wolberg, W. Nick Street, Olvi L. Mangasarian\n",
            "\n",
            "    :Donor: Nick Street\n",
            "\n",
            "    :Date: November, 1995\n",
            "\n",
            "This is a copy of UCI ML Breast Cancer Wisconsin (Diagnostic) datasets.\n",
            "https://goo.gl/U2Uwz2\n",
            "\n",
            "Features are computed from a digitized image of a fine needle\n",
            "aspirate (FNA) of a breast mass.  They describe\n",
            "characteristics of the cell nuclei present in the image.\n",
            "\n",
            "Separating plane described above was obtained using\n",
            "Multisurface Method-Tree (MSM-T) [K. P. Bennett, \"Decision Tree\n",
            "Construction Via Linear Programming.\" Proceedings of the 4th\n",
            "Midwest Artificial Intelligence and Cognitive Science Society,\n",
            "pp. 97-101, 1992], a classification method which uses linear\n",
            "programming to construct a decision tree.  Relevant features\n",
            "were selected using an exhaustive search in the space of 1-4\n",
            "features and 1-3 separating planes.\n",
            "\n",
            "The actual linear program used to obtain the separating plane\n",
            "in the 3-dimensional space is that described in:\n",
            "[K. P. Bennett and O. L. Mangasarian: \"Robust Linear\n",
            "Programming Discrimination of Two Linearly Inseparable Sets\",\n",
            "Optimization Methods and Software 1, 1992, 23-34].\n",
            "\n",
            "This database is also available through the UW CS ftp server:\n",
            "\n",
            "ftp ftp.cs.wisc.edu\n",
            "cd math-prog/cpo-dataset/machine-learn/WDBC/\n",
            "\n",
            ".. topic:: References\n",
            "\n",
            "   - W.N. Street, W.H. Wolberg and O.L. Mangasarian. Nuclear feature extraction \n",
            "     for breast tumor diagnosis. IS&T/SPIE 1993 International Symposium on \n",
            "     Electronic Imaging: Science and Technology, volume 1905, pages 861-870,\n",
            "     San Jose, CA, 1993.\n",
            "   - O.L. Mangasarian, W.N. Street and W.H. Wolberg. Breast cancer diagnosis and \n",
            "     prognosis via linear programming. Operations Research, 43(4), pages 570-577, \n",
            "     July-August 1995.\n",
            "   - W.H. Wolberg, W.N. Street, and O.L. Mangasarian. Machine learning techniques\n",
            "     to diagnose breast cancer from fine-needle aspirates. Cancer Letters 77 (1994) \n",
            "     163-171.\n"
          ],
          "name": "stdout"
        }
      ]
    },
    {
      "cell_type": "markdown",
      "metadata": {
        "id": "nqRgcAj_XkjS"
      },
      "source": [
        "Again, here are the features:"
      ]
    },
    {
      "cell_type": "code",
      "metadata": {
        "colab": {
          "base_uri": "https://localhost:8080/"
        },
        "id": "ZVqMFuAFXkjS",
        "outputId": "c0231114-fe5d-42f5-d040-d66dae97854c"
      },
      "source": [
        "print(cancer.feature_names)\n",
        "print(len(cancer.feature_names))"
      ],
      "execution_count": null,
      "outputs": [
        {
          "output_type": "stream",
          "text": [
            "['mean radius' 'mean texture' 'mean perimeter' 'mean area'\n",
            " 'mean smoothness' 'mean compactness' 'mean concavity'\n",
            " 'mean concave points' 'mean symmetry' 'mean fractal dimension'\n",
            " 'radius error' 'texture error' 'perimeter error' 'area error'\n",
            " 'smoothness error' 'compactness error' 'concavity error'\n",
            " 'concave points error' 'symmetry error' 'fractal dimension error'\n",
            " 'worst radius' 'worst texture' 'worst perimeter' 'worst area'\n",
            " 'worst smoothness' 'worst compactness' 'worst concavity'\n",
            " 'worst concave points' 'worst symmetry' 'worst fractal dimension']\n",
            "30\n"
          ],
          "name": "stdout"
        }
      ]
    },
    {
      "cell_type": "markdown",
      "metadata": {
        "id": "C63S2yCpXkjS"
      },
      "source": [
        "And here's what we're predicting:"
      ]
    },
    {
      "cell_type": "code",
      "metadata": {
        "colab": {
          "base_uri": "https://localhost:8080/"
        },
        "id": "GTnViql1XkjT",
        "outputId": "cf9c4216-cea6-400a-ad4c-a08524643b35"
      },
      "source": [
        "print(cancer.target_names)\n",
        "print(len(cancer.target_names))"
      ],
      "execution_count": null,
      "outputs": [
        {
          "output_type": "stream",
          "text": [
            "['malignant' 'benign']\n",
            "2\n"
          ],
          "name": "stdout"
        }
      ]
    },
    {
      "cell_type": "markdown",
      "metadata": {
        "id": "3gQsjGKcXkjT"
      },
      "source": [
        "So we are using 30 features for each observation, trying to classfiy each observation into one of two categories, using only those 30 features. How are these input features formatted?"
      ]
    },
    {
      "cell_type": "code",
      "metadata": {
        "scrolled": true,
        "colab": {
          "base_uri": "https://localhost:8080/"
        },
        "id": "qb0_hkP1XkjU",
        "outputId": "3e2e0d49-6300-483d-ff43-be92e7aa5854"
      },
      "source": [
        "print(len(cancer.data))\n",
        "print(type(cancer.data))\n",
        "cancer.data[0:5]"
      ],
      "execution_count": null,
      "outputs": [
        {
          "output_type": "stream",
          "text": [
            "569\n",
            "<class 'numpy.ndarray'>\n"
          ],
          "name": "stdout"
        },
        {
          "output_type": "execute_result",
          "data": {
            "text/plain": [
              "array([[1.799e+01, 1.038e+01, 1.228e+02, 1.001e+03, 1.184e-01, 2.776e-01,\n",
              "        3.001e-01, 1.471e-01, 2.419e-01, 7.871e-02, 1.095e+00, 9.053e-01,\n",
              "        8.589e+00, 1.534e+02, 6.399e-03, 4.904e-02, 5.373e-02, 1.587e-02,\n",
              "        3.003e-02, 6.193e-03, 2.538e+01, 1.733e+01, 1.846e+02, 2.019e+03,\n",
              "        1.622e-01, 6.656e-01, 7.119e-01, 2.654e-01, 4.601e-01, 1.189e-01],\n",
              "       [2.057e+01, 1.777e+01, 1.329e+02, 1.326e+03, 8.474e-02, 7.864e-02,\n",
              "        8.690e-02, 7.017e-02, 1.812e-01, 5.667e-02, 5.435e-01, 7.339e-01,\n",
              "        3.398e+00, 7.408e+01, 5.225e-03, 1.308e-02, 1.860e-02, 1.340e-02,\n",
              "        1.389e-02, 3.532e-03, 2.499e+01, 2.341e+01, 1.588e+02, 1.956e+03,\n",
              "        1.238e-01, 1.866e-01, 2.416e-01, 1.860e-01, 2.750e-01, 8.902e-02],\n",
              "       [1.969e+01, 2.125e+01, 1.300e+02, 1.203e+03, 1.096e-01, 1.599e-01,\n",
              "        1.974e-01, 1.279e-01, 2.069e-01, 5.999e-02, 7.456e-01, 7.869e-01,\n",
              "        4.585e+00, 9.403e+01, 6.150e-03, 4.006e-02, 3.832e-02, 2.058e-02,\n",
              "        2.250e-02, 4.571e-03, 2.357e+01, 2.553e+01, 1.525e+02, 1.709e+03,\n",
              "        1.444e-01, 4.245e-01, 4.504e-01, 2.430e-01, 3.613e-01, 8.758e-02],\n",
              "       [1.142e+01, 2.038e+01, 7.758e+01, 3.861e+02, 1.425e-01, 2.839e-01,\n",
              "        2.414e-01, 1.052e-01, 2.597e-01, 9.744e-02, 4.956e-01, 1.156e+00,\n",
              "        3.445e+00, 2.723e+01, 9.110e-03, 7.458e-02, 5.661e-02, 1.867e-02,\n",
              "        5.963e-02, 9.208e-03, 1.491e+01, 2.650e+01, 9.887e+01, 5.677e+02,\n",
              "        2.098e-01, 8.663e-01, 6.869e-01, 2.575e-01, 6.638e-01, 1.730e-01],\n",
              "       [2.029e+01, 1.434e+01, 1.351e+02, 1.297e+03, 1.003e-01, 1.328e-01,\n",
              "        1.980e-01, 1.043e-01, 1.809e-01, 5.883e-02, 7.572e-01, 7.813e-01,\n",
              "        5.438e+00, 9.444e+01, 1.149e-02, 2.461e-02, 5.688e-02, 1.885e-02,\n",
              "        1.756e-02, 5.115e-03, 2.254e+01, 1.667e+01, 1.522e+02, 1.575e+03,\n",
              "        1.374e-01, 2.050e-01, 4.000e-01, 1.625e-01, 2.364e-01, 7.678e-02]])"
            ]
          },
          "metadata": {
            "tags": []
          },
          "execution_count": 7
        }
      ]
    },
    {
      "cell_type": "markdown",
      "metadata": {
        "id": "uC5gbdInXkjW"
      },
      "source": [
        "We have a large numpy array of length 569, one for each observation, and each observation has its own numpy array of length 30, one for each feature. Each inner array *must* lineup with the order of the variables *and* all other arrays. **ORDER MATTERS**.\n",
        "\n",
        "What about the prediction?"
      ]
    },
    {
      "cell_type": "code",
      "metadata": {
        "colab": {
          "base_uri": "https://localhost:8080/"
        },
        "id": "OE8ks57OXkjX",
        "outputId": "2d44cd8a-9a9a-4d60-fda5-dcd9abd8e872"
      },
      "source": [
        "print(len(cancer.target))\n",
        "print(type(cancer.target))\n",
        "cancer.target"
      ],
      "execution_count": null,
      "outputs": [
        {
          "output_type": "stream",
          "text": [
            "569\n",
            "<class 'numpy.ndarray'>\n"
          ],
          "name": "stdout"
        },
        {
          "output_type": "execute_result",
          "data": {
            "text/plain": [
              "array([0, 0, 0, 0, 0, 0, 0, 0, 0, 0, 0, 0, 0, 0, 0, 0, 0, 0, 0, 1, 1, 1,\n",
              "       0, 0, 0, 0, 0, 0, 0, 0, 0, 0, 0, 0, 0, 0, 0, 1, 0, 0, 0, 0, 0, 0,\n",
              "       0, 0, 1, 0, 1, 1, 1, 1, 1, 0, 0, 1, 0, 0, 1, 1, 1, 1, 0, 1, 0, 0,\n",
              "       1, 1, 1, 1, 0, 1, 0, 0, 1, 0, 1, 0, 0, 1, 1, 1, 0, 0, 1, 0, 0, 0,\n",
              "       1, 1, 1, 0, 1, 1, 0, 0, 1, 1, 1, 0, 0, 1, 1, 1, 1, 0, 1, 1, 0, 1,\n",
              "       1, 1, 1, 1, 1, 1, 1, 0, 0, 0, 1, 0, 0, 1, 1, 1, 0, 0, 1, 0, 1, 0,\n",
              "       0, 1, 0, 0, 1, 1, 0, 1, 1, 0, 1, 1, 1, 1, 0, 1, 1, 1, 1, 1, 1, 1,\n",
              "       1, 1, 0, 1, 1, 1, 1, 0, 0, 1, 0, 1, 1, 0, 0, 1, 1, 0, 0, 1, 1, 1,\n",
              "       1, 0, 1, 1, 0, 0, 0, 1, 0, 1, 0, 1, 1, 1, 0, 1, 1, 0, 0, 1, 0, 0,\n",
              "       0, 0, 1, 0, 0, 0, 1, 0, 1, 0, 1, 1, 0, 1, 0, 0, 0, 0, 1, 1, 0, 0,\n",
              "       1, 1, 1, 0, 1, 1, 1, 1, 1, 0, 0, 1, 1, 0, 1, 1, 0, 0, 1, 0, 1, 1,\n",
              "       1, 1, 0, 1, 1, 1, 1, 1, 0, 1, 0, 0, 0, 0, 0, 0, 0, 0, 0, 0, 0, 0,\n",
              "       0, 0, 1, 1, 1, 1, 1, 1, 0, 1, 0, 1, 1, 0, 1, 1, 0, 1, 0, 0, 1, 1,\n",
              "       1, 1, 1, 1, 1, 1, 1, 1, 1, 1, 1, 0, 1, 1, 0, 1, 0, 1, 1, 1, 1, 1,\n",
              "       1, 1, 1, 1, 1, 1, 1, 1, 1, 0, 1, 1, 1, 0, 1, 0, 1, 1, 1, 1, 0, 0,\n",
              "       0, 1, 1, 1, 1, 0, 1, 0, 1, 0, 1, 1, 1, 0, 1, 1, 1, 1, 1, 1, 1, 0,\n",
              "       0, 0, 1, 1, 1, 1, 1, 1, 1, 1, 1, 1, 1, 0, 0, 1, 0, 0, 0, 1, 0, 0,\n",
              "       1, 1, 1, 1, 1, 0, 1, 1, 1, 1, 1, 0, 1, 1, 1, 0, 1, 1, 0, 0, 1, 1,\n",
              "       1, 1, 1, 1, 0, 1, 1, 1, 1, 1, 1, 1, 0, 1, 1, 1, 1, 1, 0, 1, 1, 0,\n",
              "       1, 1, 1, 1, 1, 1, 1, 1, 1, 1, 1, 1, 0, 1, 0, 0, 1, 0, 1, 1, 1, 1,\n",
              "       1, 0, 1, 1, 0, 1, 0, 1, 1, 0, 1, 0, 1, 1, 1, 1, 1, 1, 1, 1, 0, 0,\n",
              "       1, 1, 1, 1, 1, 1, 0, 1, 1, 1, 1, 1, 1, 1, 1, 1, 1, 0, 1, 1, 1, 1,\n",
              "       1, 1, 1, 0, 1, 0, 1, 1, 0, 1, 1, 1, 1, 1, 0, 0, 1, 0, 1, 0, 1, 1,\n",
              "       1, 1, 1, 0, 1, 1, 0, 1, 0, 1, 0, 0, 1, 1, 1, 0, 1, 1, 1, 1, 1, 1,\n",
              "       1, 1, 1, 1, 1, 0, 1, 0, 0, 1, 1, 1, 1, 1, 1, 1, 1, 1, 1, 1, 1, 1,\n",
              "       1, 1, 1, 1, 1, 1, 1, 1, 1, 1, 1, 1, 0, 0, 0, 0, 0, 0, 1])"
            ]
          },
          "metadata": {
            "tags": []
          },
          "execution_count": 8
        }
      ]
    },
    {
      "cell_type": "markdown",
      "metadata": {
        "id": "vHoFMswPXkjX"
      },
      "source": [
        "Again, we have 569 observations, but *no* sub arrays. The target data is one dimension. Order matters here as well, they should correspond to the feature indices in the data array. These are the correct class corresponding to the data arrays.\n",
        "\n",
        "In other words, the data and the targets should match up like this for three of the observations:"
      ]
    },
    {
      "cell_type": "code",
      "metadata": {
        "colab": {
          "base_uri": "https://localhost:8080/"
        },
        "id": "KntHkwIxXkjX",
        "outputId": "25d7cc89-979a-4adc-8a62-ffa8b53af59f"
      },
      "source": [
        "for x in [0, 50, 100]:\n",
        "    print(\"Data:\", cancer.data[x])\n",
        "    print(\"Target:\", cancer.target[x])"
      ],
      "execution_count": null,
      "outputs": [
        {
          "output_type": "stream",
          "text": [
            "Data: [1.799e+01 1.038e+01 1.228e+02 1.001e+03 1.184e-01 2.776e-01 3.001e-01\n",
            " 1.471e-01 2.419e-01 7.871e-02 1.095e+00 9.053e-01 8.589e+00 1.534e+02\n",
            " 6.399e-03 4.904e-02 5.373e-02 1.587e-02 3.003e-02 6.193e-03 2.538e+01\n",
            " 1.733e+01 1.846e+02 2.019e+03 1.622e-01 6.656e-01 7.119e-01 2.654e-01\n",
            " 4.601e-01 1.189e-01]\n",
            "Target: 0\n",
            "Data: [1.176e+01 2.160e+01 7.472e+01 4.279e+02 8.637e-02 4.966e-02 1.657e-02\n",
            " 1.115e-02 1.495e-01 5.888e-02 4.062e-01 1.210e+00 2.635e+00 2.847e+01\n",
            " 5.857e-03 9.758e-03 1.168e-02 7.445e-03 2.406e-02 1.769e-03 1.298e+01\n",
            " 2.572e+01 8.298e+01 5.165e+02 1.085e-01 8.615e-02 5.523e-02 3.715e-02\n",
            " 2.433e-01 6.563e-02]\n",
            "Target: 1\n",
            "Data: [1.361e+01 2.498e+01 8.805e+01 5.827e+02 9.488e-02 8.511e-02 8.625e-02\n",
            " 4.489e-02 1.609e-01 5.871e-02 4.565e-01 1.290e+00 2.861e+00 4.314e+01\n",
            " 5.872e-03 1.488e-02 2.647e-02 9.921e-03 1.465e-02 2.355e-03 1.699e+01\n",
            " 3.527e+01 1.086e+02 9.065e+02 1.265e-01 1.943e-01 3.169e-01 1.184e-01\n",
            " 2.651e-01 7.397e-02]\n",
            "Target: 0\n"
          ],
          "name": "stdout"
        }
      ]
    },
    {
      "cell_type": "markdown",
      "metadata": {
        "id": "YvZhq1hcXkjY"
      },
      "source": [
        "This should be enough explanation to be able to get your own data from CSV or other formats into the correct numpy arryays for scikit-learn.\n",
        "\n",
        "Now we split the data into training and testing, but first thing's first: **set the random seed!**. This is very important for reproducibility of your analyses."
      ]
    },
    {
      "cell_type": "code",
      "metadata": {
        "id": "UwX76SZxXkjY"
      },
      "source": [
        "import matplotlib.pyplot as plt\n",
        "%matplotlib inline\n",
        "import numpy as np\n",
        "\n",
        "np.random.seed(10)"
      ],
      "execution_count": null,
      "outputs": []
    },
    {
      "cell_type": "markdown",
      "metadata": {
        "id": "iAQ3YI1NXkjY"
      },
      "source": [
        "Here we'll use 75% of the data for training, and test on the remaining 25%."
      ]
    },
    {
      "cell_type": "code",
      "metadata": {
        "id": "GxTLNK-xXkjZ"
      },
      "source": [
        "from sklearn.model_selection import train_test_split\n",
        "\n",
        "X_train, X_test, y_train, y_test = train_test_split(cancer.data, cancer.target, test_size=0.25)"
      ],
      "execution_count": null,
      "outputs": []
    },
    {
      "cell_type": "code",
      "metadata": {
        "colab": {
          "base_uri": "https://localhost:8080/"
        },
        "id": "T6J5PYHuXkjZ",
        "outputId": "aad190d9-4a01-4711-b08b-17f2cb76b8aa"
      },
      "source": [
        "X_train.shape, X_test.shape"
      ],
      "execution_count": null,
      "outputs": [
        {
          "output_type": "execute_result",
          "data": {
            "text/plain": [
              "((426, 30), (143, 30))"
            ]
          },
          "metadata": {
            "tags": []
          },
          "execution_count": 12
        }
      ]
    },
    {
      "cell_type": "markdown",
      "metadata": {
        "id": "Lb9z_cJAXkjZ"
      },
      "source": [
        "The output variable (species) is equally distributed across our data points, meaning that there are the same name number of data points (50) for each of the three possible output variable values (setosa, versicolor, virginica) \n",
        "\n",
        "Now that we've split our data up into `train` and `test` sets, let's look to see how the output variable is distributed within the two datasets."
      ]
    },
    {
      "cell_type": "code",
      "metadata": {
        "colab": {
          "base_uri": "https://localhost:8080/",
          "height": 336
        },
        "id": "I-9cjZC-Xkja",
        "outputId": "39c8ffc8-8e2f-4b62-9f53-e74d578e344d"
      },
      "source": [
        "plt.figure(figsize=(13,5))\n",
        "plt.subplot(1,2,1)\n",
        "plt.hist(y_train, bins=5)\n",
        "plt.title('Train')\n",
        "plt.subplot(1,2,2)\n",
        "plt.hist(y_test, bins=5);\n",
        "plt.title('Test');"
      ],
      "execution_count": null,
      "outputs": [
        {
          "output_type": "display_data",
          "data": {
            "image/png": "[encoded data removed]",
            "text/plain": [
              "<Figure size 936x360 with 2 Axes>"
            ]
          },
          "metadata": {
            "tags": [],
            "needs_background": "light"
          }
        }
      ]
    },
    {
      "cell_type": "markdown",
      "metadata": {
        "id": "dVugbdKpXkja"
      },
      "source": [
        "The two possible values of the output variable are no longer equally distributed. This can cause a problem for model performance. Fortunately we can tell `sklearn` to split them equally using the `stratify` parameter as follows:"
      ]
    },
    {
      "cell_type": "code",
      "metadata": {
        "id": "Gofmg0pEXkjb"
      },
      "source": [
        "X_train, X_test, y_train, y_test = train_test_split(cancer.data, cancer.target, test_size=0.20,\n",
        "                                                   stratify=cancer.target)"
      ],
      "execution_count": null,
      "outputs": []
    },
    {
      "cell_type": "code",
      "metadata": {
        "colab": {
          "base_uri": "https://localhost:8080/",
          "height": 336
        },
        "id": "VQZJ6ISpXkjb",
        "outputId": "a208065c-e2af-4dfe-8501-0130f20af681"
      },
      "source": [
        "plt.figure(figsize=(13,5))\n",
        "plt.subplot(1,2,1)\n",
        "plt.hist(y_train, bins=5)\n",
        "plt.title('Train')\n",
        "plt.subplot(1,2,2)\n",
        "plt.hist(y_test, bins=5);\n",
        "plt.title('Test');"
      ],
      "execution_count": null,
      "outputs": [
        {
          "output_type": "display_data",
          "data": {
            "image/png": "[encoded data removed]",
            "text/plain": [
              "<Figure size 936x360 with 2 Axes>"
            ]
          },
          "metadata": {
            "tags": [],
            "needs_background": "light"
          }
        }
      ]
    },
    {
      "cell_type": "markdown",
      "metadata": {
        "id": "J54L9A-nXkjb"
      },
      "source": [
        "That's better, they are all equal now!"
      ]
    },
    {
      "cell_type": "markdown",
      "metadata": {
        "id": "NSsu2knBXkjb"
      },
      "source": [
        "## 2) Decision Trees"
      ]
    },
    {
      "cell_type": "markdown",
      "metadata": {
        "id": "rFyNiGLNXkjc"
      },
      "source": [
        "The first model we're going to explore is [Decision Trees: Classification](http://scikit-learn.org/stable/modules/tree.html#classification).\n",
        "\n",
        "After the train/test split, scikit-learn makes the rest of the process relatively easy, since it already has a DT classifier algorith for us, we just have to decide on the parameters:"
      ]
    },
    {
      "cell_type": "code",
      "metadata": {
        "id": "7NSB9mD9Xkjc"
      },
      "source": [
        "from sklearn import tree\n",
        "\n",
        "dt_classifier = tree.DecisionTreeClassifier(criterion='gini',  # or 'entropy' for information gain\n",
        "                       splitter='best',  # or 'random' for random best split\n",
        "                       max_depth=None,  # how deep tree nodes can go\n",
        "                       min_samples_split=2,  # samples needed to split node\n",
        "                       min_samples_leaf=1,  # samples needed for a leaf\n",
        "                       min_weight_fraction_leaf=0.0,  # weight of samples needed for a node\n",
        "                       max_features=None,  # number of features to look for when splitting\n",
        "                       max_leaf_nodes=None,  # max nodes\n",
        "                       min_impurity_decrease=1e-07, #early stopping\n",
        "                       random_state = 10) #random seed"
      ],
      "execution_count": null,
      "outputs": []
    },
    {
      "cell_type": "markdown",
      "metadata": {
        "id": "UyfidSSxXkjd"
      },
      "source": [
        "Then we use the `fit` method on the train data to fit our model. The syntax is a little strange at first, but it's powerful. All the functions for fitting data, making predictions, and storing parameters are encapsulated in a single model object. "
      ]
    },
    {
      "cell_type": "code",
      "metadata": {
        "id": "FzkI01svXkjd"
      },
      "source": [
        "dt_classifier.fit(X_train, y_train);"
      ],
      "execution_count": null,
      "outputs": []
    },
    {
      "cell_type": "markdown",
      "metadata": {
        "id": "cG6TdRDtXkje"
      },
      "source": [
        "To see how our model performs on the test data, we use the `score` method which returns the mean accuracy. Accuracy can be defined as:\n",
        "\n",
        "$$ Accuracy= $\\frac{\\sum{\\text{True Positives}}+\\sum{\\text{True Negatives}}}{\\sum{\\text{Total Population}}}$$\n",
        "\n",
        "Where \"True Positives\" are those data points whose value should be 1, and they are predicted to be 1, and \"True Negatives\" are those data points whose values should be -1 (or 0), and they are predicted to be -1 (or 0).\n",
        "\n",
        "`score` can be used on both the train and test datasets. Using the train data will give us the in-sample accurac score."
      ]
    },
    {
      "cell_type": "code",
      "metadata": {
        "colab": {
          "base_uri": "https://localhost:8080/"
        },
        "id": "oUts5jP5Xkje",
        "outputId": "f1cffb1d-41b4-47a4-f0a2-278aca973696"
      },
      "source": [
        "print(dt_classifier.score(X_train, y_train))"
      ],
      "execution_count": null,
      "outputs": [
        {
          "output_type": "stream",
          "text": [
            "1.0\n"
          ],
          "name": "stdout"
        }
      ]
    },
    {
      "cell_type": "markdown",
      "metadata": {
        "id": "JfEX3APqXkje"
      },
      "source": [
        "That's a perfect score of `1.0`! But the model may be overfit to the train data, so we should evaluate the performance of this model using the test data."
      ]
    },
    {
      "cell_type": "code",
      "metadata": {
        "colab": {
          "base_uri": "https://localhost:8080/"
        },
        "id": "56lyMqBtXkjf",
        "outputId": "49647e5b-40c5-4222-b44b-a0c259568284"
      },
      "source": [
        "print(dt_classifier.score(X_test, y_test))"
      ],
      "execution_count": null,
      "outputs": [
        {
          "output_type": "stream",
          "text": [
            "0.956140350877193\n"
          ],
          "name": "stdout"
        }
      ]
    },
    {
      "cell_type": "markdown",
      "metadata": {
        "id": "MwTOl1m8Xkjf"
      },
      "source": [
        "Not quite perfect, but still really good!\n",
        "\n",
        "We can get the feature importance (Gini importance) of the four features to see which one(s) are important in determining the classification:"
      ]
    },
    {
      "cell_type": "code",
      "metadata": {
        "colab": {
          "base_uri": "https://localhost:8080/"
        },
        "id": "5no-w9G7Xkjf",
        "outputId": "e45ef7ec-5df5-47dc-8b99-2d38d55b9bbd"
      },
      "source": [
        "dt_classifier.feature_importances_"
      ],
      "execution_count": null,
      "outputs": [
        {
          "output_type": "execute_result",
          "data": {
            "text/plain": [
              "array([0.01126935, 0.04904254, 0.        , 0.        , 0.        ,\n",
              "       0.01486928, 0.02126154, 0.        , 0.        , 0.        ,\n",
              "       0.00907433, 0.        , 0.        , 0.00299427, 0.00145473,\n",
              "       0.        , 0.        , 0.        , 0.        , 0.00782594,\n",
              "       0.        , 0.02578757, 0.        , 0.71239461, 0.        ,\n",
              "       0.00845201, 0.01623836, 0.11933547, 0.        , 0.        ])"
            ]
          },
          "metadata": {
            "tags": []
          },
          "execution_count": 21
        }
      ]
    },
    {
      "cell_type": "markdown",
      "metadata": {
        "id": "AanOvuFYXkjg"
      },
      "source": [
        "Looks like the twenty-fourth variable is most important, with a Gini importance score of ~`0.71`. Let's find out which feature that is."
      ]
    },
    {
      "cell_type": "code",
      "metadata": {
        "colab": {
          "base_uri": "https://localhost:8080/",
          "height": 35
        },
        "id": "ugoj1SkGXkjg",
        "outputId": "b628585f-5778-4474-d285-7ee3852ad89a"
      },
      "source": [
        "cancer.feature_names[dt_classifier.feature_importances_.argmax()]"
      ],
      "execution_count": null,
      "outputs": [
        {
          "output_type": "execute_result",
          "data": {
            "application/vnd.google.colaboratory.intrinsic+json": {
              "type": "string"
            },
            "text/plain": [
              "'worst area'"
            ]
          },
          "metadata": {
            "tags": []
          },
          "execution_count": 23
        }
      ]
    },
    {
      "cell_type": "markdown",
      "metadata": {
        "id": "MCUnzNq8Xkjg"
      },
      "source": [
        "There are  metrics other than accuracy to quantify classification performance. Some common metrics in machine learning are:\n",
        "\n",
        "1. **Precision**: \n",
        "$$\\frac{\\sum{\\text{Predicted Positives}}}{\\sum{\\text{True Positives}}}$$\n",
        "2. **Recall** (or **Sensitivity**): \n",
        "$$\\frac{\\sum{\\text{Predicted Positives}}}{\\sum{\\text{Condition Positives}}}$$ \n",
        "3. **Specificity** (like recall for negative examples): \n",
        "$$\\frac{\\sum{\\text{Predicted Negatives}}}{\\sum{\\text{Condition Negatives}}}$$\n",
        "\n",
        "\n",
        "Below is a table showing how these metrics fit in with other confusion matrix concepts like \"True Positives\" and \"True Negatives\" [wikipedia](https://en.wikipedia.org/wiki/Confusion_matrix)\n",
        "\n",
        "<img src='https://upload.wikimedia.org/wikipedia/commons/2/26/Precisionrecall.svg' width=300>/"
      ]
    },
    {
      "cell_type": "markdown",
      "metadata": {
        "id": "TjnKgIzLXkjh"
      },
      "source": [
        "Scikit-learn will can print out the **Recall** and **Precision** scores for a classification model by using `metrics.classification_report()`."
      ]
    },
    {
      "cell_type": "code",
      "metadata": {
        "colab": {
          "base_uri": "https://localhost:8080/"
        },
        "id": "c7xali1QXkjh",
        "outputId": "2b9c5843-2127-490b-a2e9-355a9a0bea66"
      },
      "source": [
        "from sklearn import metrics\n",
        "\n",
        "dt_predicted = dt_classifier.predict(X_test)\n",
        "print(\"Classification report:\")\n",
        "print(metrics.classification_report(y_test, dt_predicted)) "
      ],
      "execution_count": null,
      "outputs": [
        {
          "output_type": "stream",
          "text": [
            "Classification report:\n",
            "              precision    recall  f1-score   support\n",
            "\n",
            "           0       0.93      0.95      0.94        42\n",
            "           1       0.97      0.96      0.97        72\n",
            "\n",
            "    accuracy                           0.96       114\n",
            "   macro avg       0.95      0.96      0.95       114\n",
            "weighted avg       0.96      0.96      0.96       114\n",
            "\n"
          ],
          "name": "stdout"
        }
      ]
    },
    {
      "cell_type": "markdown",
      "metadata": {
        "id": "uXj3F26HXkjh"
      },
      "source": [
        "## 3) Tuning Parameters: Cross-Validation & Grid Search"
      ]
    },
    {
      "cell_type": "markdown",
      "metadata": {
        "id": "jNY4_LoNXkjh"
      },
      "source": [
        "Tuning parameters is one of the most important steps in building a ML model. One way to do this is by using what's called a [grid search](http://scikit-learn.org/stable/modules/generated/sklearn.model_selection.GridSearchCV.html). A grid search tests different possible parameter combinations to see which combination yields the best results. Fortunately, scikit-learn has a function for this which makes it very easy to do.\n",
        "\n",
        "Here we'll see what the best combination of the parameters `min_samples_split` and `min_samples_leaf` is. We can make a dictionary with the names of the parameters as the keys and the range of values as the corresponding values."
      ]
    },
    {
      "cell_type": "code",
      "metadata": {
        "colab": {
          "base_uri": "https://localhost:8080/"
        },
        "id": "B5grYkuQXkji",
        "outputId": "6192790c-b006-40a8-cfad-539cfb5c009c"
      },
      "source": [
        "param_grid = {'min_samples_split': range(2,10),\n",
        "              'min_samples_leaf': range(1,10)}\n",
        "\n",
        "param_grid"
      ],
      "execution_count": null,
      "outputs": [
        {
          "output_type": "execute_result",
          "data": {
            "text/plain": [
              "{'min_samples_leaf': range(1, 10), 'min_samples_split': range(2, 10)}"
            ]
          },
          "metadata": {
            "tags": []
          },
          "execution_count": 25
        }
      ]
    },
    {
      "cell_type": "markdown",
      "metadata": {
        "id": "8_gymzBnXkji"
      },
      "source": [
        "Then we can implement the grid search and fit our model according to the best parameters."
      ]
    },
    {
      "cell_type": "code",
      "metadata": {
        "colab": {
          "base_uri": "https://localhost:8080/"
        },
        "id": "0WxFm_HKXkji",
        "outputId": "c9ca6bb7-07ec-4bae-c96e-640194e544a1"
      },
      "source": [
        "from sklearn.model_selection import GridSearchCV\n",
        "\n",
        "model_dt = GridSearchCV(dt_classifier, param_grid, cv=3, iid=False, return_train_score=True)\n",
        "model_dt.fit(X_train, y_train);"
      ],
      "execution_count": null,
      "outputs": [
        {
          "output_type": "stream",
          "text": [
            "/usr/local/lib/python3.7/dist-packages/sklearn/model_selection/_search.py:823: FutureWarning: The parameter 'iid' is deprecated in 0.22 and will be removed in 0.24.\n",
            "  \"removed in 0.24.\", FutureWarning\n"
          ],
          "name": "stderr"
        }
      ]
    },
    {
      "cell_type": "markdown",
      "metadata": {
        "id": "BI6p-ZftXkjj"
      },
      "source": [
        "We can see what the model parameters are that produce the highest accuracy on the test set data by finding the max `mean_test_score`, and it's assoiated parameter values:"
      ]
    },
    {
      "cell_type": "code",
      "metadata": {
        "colab": {
          "base_uri": "https://localhost:8080/"
        },
        "id": "Cx3at2zGXkjk",
        "outputId": "f5104c26-2ede-45f3-c343-1bb140bda474"
      },
      "source": [
        "best_index = np.argmax(model_dt.cv_results_[\"mean_test_score\"])\n",
        "\n",
        "print('Best parameter values are:', model_dt.cv_results_[\"params\"][best_index])\n",
        "print('Best Mean Cross-Validation train accuracy: %.03f' % (model_dt.cv_results_[\"mean_train_score\"][best_index]))\n",
        "print('Best Mean Cross-Validation test (validation) accuracy: %.03f' % (model_dt.cv_results_[\"mean_test_score\"][best_index]))\n",
        "print('Overal mean test accuracy: %.03f' % (model_dt.score(X_test, y_test)))"
      ],
      "execution_count": null,
      "outputs": [
        {
          "output_type": "stream",
          "text": [
            "Best parameter values are: {'min_samples_leaf': 8, 'min_samples_split': 2}\n",
            "Best Mean Cross-Validation train accuracy: 0.959\n",
            "Best Mean Cross-Validation test (validation) accuracy: 0.914\n",
            "Overal mean test accuracy: 0.956\n"
          ],
          "name": "stdout"
        }
      ]
    },
    {
      "cell_type": "markdown",
      "metadata": {
        "id": "QpMUCxBkXkjm"
      },
      "source": [
        "We can also look at all of the combinations and their test and train scores:"
      ]
    },
    {
      "cell_type": "code",
      "metadata": {
        "id": "4r1uvTQSXkjn"
      },
      "source": [
        "#model_dt"
      ],
      "execution_count": null,
      "outputs": []
    },
    {
      "cell_type": "code",
      "metadata": {
        "id": "AnjAlKXiXkjn"
      },
      "source": [
        "n_grid_points = len(model_dt.cv_results_['params'])\n",
        "min_samples_leaf_vals = np.empty((n_grid_points,))\n",
        "min_samples_split_vals = np.empty((n_grid_points,))\n",
        "mean_train_scores = np.empty((n_grid_points,))\n",
        "mean_test_scores = np.empty((n_grid_points,))\n",
        "for i in range(n_grid_points):\n",
        "    min_samples_leaf_vals[i] = model_dt.cv_results_['params'][i]['min_samples_leaf']\n",
        "    min_samples_split_vals[i] = model_dt.cv_results_['params'][i]['min_samples_split']\n",
        "    mean_train_scores[i] = model_dt.cv_results_['mean_train_score'][i]\n",
        "    mean_test_scores[i] = model_dt.cv_results_['mean_test_score'][i]"
      ],
      "execution_count": null,
      "outputs": []
    },
    {
      "cell_type": "code",
      "metadata": {
        "id": "Y4cjkUchXkjo"
      },
      "source": [
        "from mpl_toolkits.mplot3d import Axes3D\n",
        "from matplotlib import cm\n",
        "import matplotlib.pyplot as plt\n",
        "import numpy as np"
      ],
      "execution_count": null,
      "outputs": []
    },
    {
      "cell_type": "code",
      "metadata": {
        "colab": {
          "base_uri": "https://localhost:8080/",
          "height": 592
        },
        "id": "uBajsnXfXkjo",
        "outputId": "6fe8dfac-1aab-4746-8de3-14c76d8b2889"
      },
      "source": [
        "fig = plt.figure(figsize=(20,10))\n",
        "ax = fig.gca(projection='3d')\n",
        "surf = ax.plot_trisurf( min_samples_leaf_vals, min_samples_split_vals, mean_train_scores, cmap=cm.coolwarm,\n",
        "                       linewidth=10, antialiased=False)\n",
        "ax.set_title('Mean Train Scores', fontsize=18)\n",
        "ax.set_xlabel('min_samples_leaf', fontsize=18)\n",
        "ax.set_ylabel('min_samples_split', fontsize=18)"
      ],
      "execution_count": null,
      "outputs": [
        {
          "output_type": "execute_result",
          "data": {
            "text/plain": [
              "Text(0.5, 0, 'min_samples_split')"
            ]
          },
          "metadata": {
            "tags": []
          },
          "execution_count": 31
        },
        {
          "output_type": "display_data",
          "data": {
            "image/png": "[encoded data removed]",
            "text/plain": [
              "<Figure size 1440x720 with 1 Axes>"
            ]
          },
          "metadata": {
            "tags": [],
            "needs_background": "light"
          }
        }
      ]
    },
    {
      "cell_type": "code",
      "metadata": {
        "colab": {
          "base_uri": "https://localhost:8080/",
          "height": 592
        },
        "id": "W5AoKNcSXkjo",
        "outputId": "9ec8b68e-6f43-4f66-d159-6a7e78fc2f4e"
      },
      "source": [
        "fig = plt.figure(figsize=(20,10))\n",
        "ax = fig.gca(projection='3d')\n",
        "surf = ax.plot_trisurf( min_samples_leaf_vals, min_samples_split_vals, mean_test_scores, cmap=cm.coolwarm,\n",
        "                       linewidth=10, antialiased=False)\n",
        "ax.set_title('Mean Test Scores', fontsize=18)\n",
        "ax.set_xlabel('min_samples_leaf', fontsize=18)\n",
        "ax.set_ylabel('min_samples_split', fontsize=18)"
      ],
      "execution_count": null,
      "outputs": [
        {
          "output_type": "execute_result",
          "data": {
            "text/plain": [
              "Text(0.5, 0, 'min_samples_split')"
            ]
          },
          "metadata": {
            "tags": []
          },
          "execution_count": 32
        },
        {
          "output_type": "display_data",
          "data": {
            "image/png": "[encoded data removed]",
            "text/plain": [
              "<Figure size 1440x720 with 1 Axes>"
            ]
          },
          "metadata": {
            "tags": [],
            "needs_background": "light"
          }
        }
      ]
    },
    {
      "cell_type": "markdown",
      "metadata": {
        "id": "ASEqPHEMXkjp"
      },
      "source": [
        "## 4) Random Forests"
      ]
    },
    {
      "cell_type": "markdown",
      "metadata": {
        "id": "7rns0RffXkjp"
      },
      "source": [
        "Now we'll look at [Random Forests](http://scikit-learn.org/stable/modules/generated/sklearn.ensemble.RandomForestClassifier.html).\n",
        "\n",
        "- random forests are an ensemble method (the classification decision is pooled across many simpler classifiers)\n",
        "- each decision tree is fit to a subset of the data (bagging), and uses only a subset of the features (random subspace). "
      ]
    },
    {
      "cell_type": "code",
      "metadata": {
        "id": "tJTijsI9Xkjp"
      },
      "source": [
        "from sklearn.model_selection import cross_val_score\n",
        "from sklearn import ensemble\n",
        "\n",
        "rf_classifier = ensemble.RandomForestClassifier(n_estimators=10,  # number of trees\n",
        "                       criterion='gini',  # or 'entropy' for information gain\n",
        "                       max_depth=None,  # how deep tree nodes can go\n",
        "                       min_samples_split=2,  # samples needed to split node\n",
        "                       min_samples_leaf=1,  # samples needed for a leaf\n",
        "                       min_weight_fraction_leaf=0.0,  # weight of samples needed for a node\n",
        "                       max_features='auto',  # number of features for best split\n",
        "                       max_leaf_nodes=None,  # max nodes\n",
        "                       min_impurity_decrease=1e-07,  # early stopping\n",
        "                       n_jobs=1,  # CPUs to use\n",
        "                       random_state = 10,  # random seed\n",
        "                       class_weight=\"balanced\")  # adjusts weights inverse of freq, also \"balanced_subsample\" or None"
      ],
      "execution_count": null,
      "outputs": []
    },
    {
      "cell_type": "markdown",
      "metadata": {
        "id": "JvKpkNFfXkjq"
      },
      "source": [
        "Now we fit the model on our training data."
      ]
    },
    {
      "cell_type": "code",
      "metadata": {
        "id": "Chq1LMPjXkjq"
      },
      "source": [
        "rf_model = rf_classifier.fit(X_train, y_train)"
      ],
      "execution_count": null,
      "outputs": []
    },
    {
      "cell_type": "markdown",
      "metadata": {
        "id": "0YkqOGEPXkjq"
      },
      "source": [
        "Let's look at the classification performance on the test data:"
      ]
    },
    {
      "cell_type": "code",
      "metadata": {
        "colab": {
          "base_uri": "https://localhost:8080/"
        },
        "id": "J20BUTuTXkjr",
        "outputId": "1230acee-59aa-4645-d1ff-b8b585edca7d"
      },
      "source": [
        "print(\"Score of model with test data defined above:\")\n",
        "print(rf_model.score(X_test, y_test))\n",
        "print()\n",
        "\n",
        "predicted = rf_model.predict(X_test)\n",
        "print(\"Classification report:\")\n",
        "print(metrics.classification_report(y_test, predicted)) \n",
        "print()"
      ],
      "execution_count": null,
      "outputs": [
        {
          "output_type": "stream",
          "text": [
            "Score of model with test data defined above:\n",
            "0.9649122807017544\n",
            "\n",
            "Classification report:\n",
            "              precision    recall  f1-score   support\n",
            "\n",
            "           0       0.95      0.95      0.95        42\n",
            "           1       0.97      0.97      0.97        72\n",
            "\n",
            "    accuracy                           0.96       114\n",
            "   macro avg       0.96      0.96      0.96       114\n",
            "weighted avg       0.96      0.96      0.96       114\n",
            "\n",
            "\n"
          ],
          "name": "stdout"
        }
      ]
    },
    {
      "cell_type": "markdown",
      "metadata": {
        "id": "YePjI03LXkjr"
      },
      "source": [
        "Let's do another grid search to determine the best parameters:"
      ]
    },
    {
      "cell_type": "code",
      "metadata": {
        "colab": {
          "base_uri": "https://localhost:8080/"
        },
        "id": "Ruj3IgkfXkjr",
        "outputId": "d75162bb-d4b7-4b76-ba3c-5881af220085"
      },
      "source": [
        "param_grid = {'min_samples_split': range(2,10),\n",
        "              'min_samples_leaf': range(1,10)}\n",
        "\n",
        "model_rf = GridSearchCV(ensemble.RandomForestClassifier(n_estimators=10), param_grid, cv=3, iid=False)\n",
        "model_rf.fit(X_train, y_train)\n",
        "\n",
        "best_index = np.argmax(model_rf.cv_results_[\"mean_test_score\"])\n",
        "\n",
        "print(\"Best parameter values:\", model_rf.cv_results_[\"params\"][best_index])\n",
        "print(\"Best Mean cross-validated test accuracy:\", model_rf.cv_results_[\"mean_test_score\"][best_index])\n",
        "print(\"Overall Mean test accuracy:\", model_rf.score(X_test, y_test))"
      ],
      "execution_count": null,
      "outputs": [
        {
          "output_type": "stream",
          "text": [
            "Best parameter values: {'min_samples_leaf': 1, 'min_samples_split': 2}\n",
            "Best Mean cross-validated test accuracy: 0.9582026257697223\n",
            "Overall Mean test accuracy: 0.9649122807017544\n"
          ],
          "name": "stdout"
        },
        {
          "output_type": "stream",
          "text": [
            "/usr/local/lib/python3.7/dist-packages/sklearn/model_selection/_search.py:823: FutureWarning: The parameter 'iid' is deprecated in 0.22 and will be removed in 0.24.\n",
            "  \"removed in 0.24.\", FutureWarning\n"
          ],
          "name": "stderr"
        }
      ]
    },
    {
      "cell_type": "markdown",
      "metadata": {
        "id": "_JxI3mRpXkjs"
      },
      "source": [
        "## 5) Predict"
      ]
    },
    {
      "cell_type": "markdown",
      "metadata": {
        "id": "M2zr_jojXkjs"
      },
      "source": [
        "Great! That's quite accurate. So let's say we're walking through a garden and spot an iris, but have no idea what type it is. We take some measurements:"
      ]
    },
    {
      "cell_type": "code",
      "metadata": {
        "colab": {
          "base_uri": "https://localhost:8080/"
        },
        "id": "efxrKawJXkjs",
        "outputId": "3e3e5cc3-856e-4c28-929b-c69cbf19cbb4"
      },
      "source": [
        "import random as rand\n",
        "random_cancer = [rand.uniform(0.001, 0.1) for i in range(30)]\n",
        "\n",
        "for i in range(len(random_cancer)):\n",
        "    print(cancer.feature_names[i])\n",
        "    print(random_cancer[i])\n",
        "    print()"
      ],
      "execution_count": null,
      "outputs": [
        {
          "output_type": "stream",
          "text": [
            "mean radius\n",
            "0.06220009898336059\n",
            "\n",
            "mean texture\n",
            "0.09064469569331858\n",
            "\n",
            "mean perimeter\n",
            "0.08036465267316367\n",
            "\n",
            "mean area\n",
            "0.014037772375830183\n",
            "\n",
            "mean smoothness\n",
            "0.018244736801124758\n",
            "\n",
            "mean compactness\n",
            "0.03056035208780637\n",
            "\n",
            "mean concavity\n",
            "0.08413481195286286\n",
            "\n",
            "mean concave points\n",
            "0.07381020573042951\n",
            "\n",
            "mean symmetry\n",
            "0.0584056735592032\n",
            "\n",
            "mean fractal dimension\n",
            "0.07467366325333241\n",
            "\n",
            "radius error\n",
            "0.06951140153016998\n",
            "\n",
            "texture error\n",
            "0.030669767290647795\n",
            "\n",
            "perimeter error\n",
            "0.08501562575776951\n",
            "\n",
            "area error\n",
            "0.09395975688195177\n",
            "\n",
            "smoothness error\n",
            "0.02412946290395539\n",
            "\n",
            "compactness error\n",
            "0.06013494062591147\n",
            "\n",
            "concavity error\n",
            "0.05943643291198535\n",
            "\n",
            "concave points error\n",
            "0.02139275709102242\n",
            "\n",
            "symmetry error\n",
            "0.09960822265353085\n",
            "\n",
            "fractal dimension error\n",
            "0.07854524348440059\n",
            "\n",
            "worst radius\n",
            "0.012211202225034367\n",
            "\n",
            "worst texture\n",
            "0.023094277876640583\n",
            "\n",
            "worst perimeter\n",
            "0.04464384570550168\n",
            "\n",
            "worst area\n",
            "0.029638352657526734\n",
            "\n",
            "worst smoothness\n",
            "0.0724127781902978\n",
            "\n",
            "worst compactness\n",
            "0.05710765174011921\n",
            "\n",
            "worst concavity\n",
            "0.07837219674091064\n",
            "\n",
            "worst concave points\n",
            "0.0060875148710969\n",
            "\n",
            "worst symmetry\n",
            "0.008138375364657405\n",
            "\n",
            "worst fractal dimension\n",
            "0.0916217212327652\n",
            "\n"
          ],
          "name": "stdout"
        }
      ]
    },
    {
      "cell_type": "markdown",
      "metadata": {
        "id": "bShpmPnxXkjs"
      },
      "source": [
        "Can we use our model to predict the type?"
      ]
    },
    {
      "cell_type": "code",
      "metadata": {
        "colab": {
          "base_uri": "https://localhost:8080/"
        },
        "id": "1P1EQmN2Xkjt",
        "outputId": "a5473a9e-801e-4178-ee88-b2af408f6e2a"
      },
      "source": [
        "label_idx = model_rf.predict([random_cancer])\n",
        "label_idx"
      ],
      "execution_count": null,
      "outputs": [
        {
          "output_type": "execute_result",
          "data": {
            "text/plain": [
              "array([1])"
            ]
          },
          "metadata": {
            "tags": []
          },
          "execution_count": 43
        }
      ]
    },
    {
      "cell_type": "markdown",
      "metadata": {
        "id": "mXG1DSsCXkjt"
      },
      "source": [
        "Now we can just index our labels:"
      ]
    },
    {
      "cell_type": "code",
      "metadata": {
        "colab": {
          "base_uri": "https://localhost:8080/"
        },
        "id": "bEyW6pf6Xkjt",
        "outputId": "4881828e-a071-4869-c41b-88733ad5e777"
      },
      "source": [
        "cancer.target_names[label_idx]"
      ],
      "execution_count": null,
      "outputs": [
        {
          "output_type": "execute_result",
          "data": {
            "text/plain": [
              "array(['benign'], dtype='<U9')"
            ]
          },
          "metadata": {
            "tags": []
          },
          "execution_count": 45
        }
      ]
    },
    {
      "cell_type": "markdown",
      "metadata": {
        "id": "OXOtaBCAXkjt"
      },
      "source": [
        "# Challenge: AdaBoost\n",
        "\n",
        "Adaboost is another ensemble method that relies on 'boosting'. Similar to 'bagging', 'boosting' samples many subsets of data to fit multiple classifiers, but resamples preferentially for mis-classified data points. "
      ]
    },
    {
      "cell_type": "markdown",
      "metadata": {
        "id": "OI4gpdYEXkjt"
      },
      "source": [
        "### Part 1\n",
        "\n",
        "Using the scikit-learn [documentation](http://scikit-learn.org/stable/modules/ensemble.html#adaboost), build your own AdaBoost model to test on the iris data set! Start off with `n_estimators` at 100, and `learning_rate` at .5. Use 10 as the `random_state` value."
      ]
    },
    {
      "cell_type": "code",
      "metadata": {
        "id": "bumv1S7NXkju"
      },
      "source": [
        ""
      ],
      "execution_count": null,
      "outputs": []
    },
    {
      "cell_type": "markdown",
      "metadata": {
        "id": "pEV2-w6VXkju"
      },
      "source": [
        "### Part 2\n",
        "\n",
        "Now use a grid search to determine what the best values for the `n_estimators` and `learning_rate` parameters are. For `n_estimators` try a range of 50 to 500 with a step of 50, and for `learning_rate` try a range of .1 to 1.1 with a step of .1. For decimal steps in a range use the `np.arange` function."
      ]
    },
    {
      "cell_type": "code",
      "metadata": {
        "id": "yEe8dhjkXkju"
      },
      "source": [
        ""
      ],
      "execution_count": null,
      "outputs": []
    }
  ]
}