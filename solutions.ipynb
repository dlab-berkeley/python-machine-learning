{
  "nbformat": 4,
  "nbformat_minor": 0,
  "metadata": {
    "anaconda-cloud": {},
    "hide_input": false,
    "kernelspec": {
      "display_name": "Python 3",
      "language": "python",
      "name": "python3"
    },
    "language_info": {
      "codemirror_mode": {
        "name": "ipython",
        "version": 3
      },
      "file_extension": ".py",
      "mimetype": "text/x-python",
      "name": "python",
      "nbconvert_exporter": "python",
      "pygments_lexer": "ipython3",
      "version": "3.7.2"
    },
    "toc": {
      "base_numbering": 1,
      "nav_menu": {},
      "number_sections": true,
      "sideBar": true,
      "skip_h1_title": false,
      "title_cell": "Table of Contents",
      "title_sidebar": "Contents",
      "toc_cell": false,
      "toc_position": {},
      "toc_section_display": "block",
      "toc_window_display": false
    },
    "varInspector": {
      "cols": {
        "lenName": 16,
        "lenType": 16,
        "lenVar": 40
      },
      "kernels_config": {
        "python": {
          "delete_cmd_postfix": "",
          "delete_cmd_prefix": "del ",
          "library": "var_list.py",
          "varRefreshCmd": "print(var_dic_list())"
        },
        "r": {
          "delete_cmd_postfix": ") ",
          "delete_cmd_prefix": "rm(",
          "library": "var_list.r",
          "varRefreshCmd": "cat(var_dic_list()) "
        }
      },
      "types_to_exclude": [
        "module",
        "function",
        "builtin_function_or_method",
        "instance",
        "_Feature"
      ],
      "window_display": false
    },
    "colab": {
      "name": "solutions.ipynb",
      "provenance": [],
      "collapsed_sections": []
    }
  },
  "cells": [
    {
      "cell_type": "markdown",
      "metadata": {
        "id": "-B_n2XBAulEu"
      },
      "source": [
        "# Classification\n",
        "\n",
        "## Part 1"
      ]
    },
    {
      "cell_type": "code",
      "metadata": {
        "colab": {
          "base_uri": "https://localhost:8080/"
        },
        "id": "ncJMbM7BulEy",
        "outputId": "39c84685-d390-4134-fd0f-102d2354feb3"
      },
      "source": [
        "from sklearn.datasets import load_breast_cancer\n",
        "from sklearn.ensemble import AdaBoostClassifier\n",
        "from sklearn.model_selection import train_test_split\n",
        "\n",
        "cancer = load_breast_cancer()\n",
        "\n",
        "X_train, X_test, y_train, y_test = train_test_split(cancer.data, cancer.target,\n",
        "                                                    train_size=0.75, test_size=0.25)\n",
        "\n",
        "ada = AdaBoostClassifier(n_estimators=100,\n",
        "                         learning_rate=.5,\n",
        "                         random_state=10)\n",
        "\n",
        "ada.fit(X_train, y_train)\n",
        "\n",
        "ada.score(X_test, y_test)"
      ],
      "execution_count": 1,
      "outputs": [
        {
          "output_type": "execute_result",
          "data": {
            "text/plain": [
              "0.965034965034965"
            ]
          },
          "metadata": {
            "tags": []
          },
          "execution_count": 1
        }
      ]
    },
    {
      "cell_type": "markdown",
      "metadata": {
        "id": "kVICoh4zulE0"
      },
      "source": [
        "## Part 2"
      ]
    },
    {
      "cell_type": "code",
      "metadata": {
        "id": "FZPlgdIIulE0"
      },
      "source": [
        "from sklearn.model_selection import GridSearchCV\n",
        "import numpy as np\n",
        "\n",
        "param_grid = {'n_estimators': range(50, 550, 50),\n",
        "             'learning_rate': np.arange(.1, 1.1, .1)}\n",
        "\n",
        "model_a = GridSearchCV(AdaBoostClassifier(random_state=10), param_grid, cv=3, iid=True)\n",
        "model_a.fit(X_train, y_train)\n",
        "\n",
        "best_index = np.argmax(model_a.cv_results_[\"mean_test_score\"])\n",
        "\n",
        "print(\"Best index:\", model_a.cv_results_[\"params\"][best_index])\n",
        "print(\"Mean test score:\", max(model_a.cv_results_[\"mean_test_score\"]))\n",
        "print(\"Results:\", model_a.score(X_test, y_test))"
      ],
      "execution_count": null,
      "outputs": []
    },
    {
      "cell_type": "markdown",
      "metadata": {
        "id": "2hUhmCiOulE1"
      },
      "source": [
        "# Regression\n",
        "\n",
        "One example:"
      ]
    },
    {
      "cell_type": "code",
      "metadata": {
        "scrolled": true,
        "id": "CurC3BkhulE1"
      },
      "source": [
        "from sklearn import neighbors, ensemble\n",
        "\n",
        "param_grid = {'n_estimators': range(2,50)}\n",
        "\n",
        "\n",
        "model_c = GridSearchCV(ensemble.RandomForestRegressor(), param_grid, cv=3, iid=True)\n",
        "model_c.fit(X_train, y_train)\n",
        "\n",
        "best_index = np.argmax(model_c.cv_results_[\"mean_test_score\"])\n",
        "\n",
        "print(model_c.cv_results_[\"params\"][best_index])\n",
        "print(max(model_c.cv_results_[\"mean_test_score\"]))\n",
        "print(model_c.score(X_test, y_test))"
      ],
      "execution_count": null,
      "outputs": []
    }
  ]
}